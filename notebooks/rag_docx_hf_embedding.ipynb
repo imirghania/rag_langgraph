{
 "cells": [
  {
   "cell_type": "markdown",
   "id": "b5fc7e29",
   "metadata": {},
   "source": [
    "### Load documents"
   ]
  },
  {
   "cell_type": "code",
   "execution_count": 1,
   "id": "20e8a433",
   "metadata": {},
   "outputs": [],
   "source": [
    "from langchain_community.document_loaders import DirectoryLoader, Docx2txtLoader\n",
    "from pathlib import Path\n",
    "import glob"
   ]
  },
  {
   "cell_type": "code",
   "execution_count": 2,
   "id": "f52f99b3",
   "metadata": {},
   "outputs": [
    {
     "data": {
      "text/plain": [
       "PosixPath('/home/ubuntu_wsl/gen_ai/rag_agent/notebooks/..')"
      ]
     },
     "execution_count": 2,
     "metadata": {},
     "output_type": "execute_result"
    }
   ],
   "source": [
    "root_dir = Path('../').absolute()\n",
    "root_dir"
   ]
  },
  {
   "cell_type": "code",
   "execution_count": 3,
   "id": "6be89936",
   "metadata": {},
   "outputs": [
    {
     "data": {
      "text/plain": [
       "['/home/ubuntu_wsl/gen_ai/rag_agent/notebooks/../docs/3-bonus.docx',\n",
       " '/home/ubuntu_wsl/gen_ai/rag_agent/notebooks/../docs/2-deposit.docx',\n",
       " '/home/ubuntu_wsl/gen_ai/rag_agent/notebooks/../docs/4-games.docx',\n",
       " '/home/ubuntu_wsl/gen_ai/rag_agent/notebooks/../docs/1-account and website.docx',\n",
       " '/home/ubuntu_wsl/gen_ai/rag_agent/notebooks/../docs/5-issues.docx',\n",
       " '/home/ubuntu_wsl/gen_ai/rag_agent/notebooks/../docs/6-Genral.docx']"
      ]
     },
     "execution_count": 3,
     "metadata": {},
     "output_type": "execute_result"
    }
   ],
   "source": [
    "doc_files = glob.glob(str(root_dir/'**/*.docx'))\n",
    "\n",
    "doc_files"
   ]
  },
  {
   "cell_type": "code",
   "execution_count": 4,
   "id": "9637632a",
   "metadata": {},
   "outputs": [
    {
     "data": {
      "text/plain": [
       "[Document(metadata={'source': '/home/ubuntu_wsl/gen_ai/rag_agent/notebooks/../docs/1-account and website.docx'}, page_content='Hello, my name is Harry, I will be glad to help you!\\n\\nمرحبًا ، اسمي هاري ، سأكون سعيدًا بمساعدتك! \\n\\n\\n\\nWhat is this site? What is on here? Who are you?\\n\\nValorBet is a licensed online casino. Here you can place bets on slot machines, live dealer games, roulette, poker, and much more. We have games from over 2000 providers. Additionally, we have a high-level loyalty program, which means you don\\'t need to verify your account to deposit or withdraw funds.\\n\\n\\n\\nIs this site safe?\\n\\nOur website operates under a license issued in Curaçao, and all our gaming machines and providers are official and undergo rigorous checks by independent entities. You can play with peace of mind, as your security is guaranteed.\\n\\n\\n\\nPlease provide me with the link to download your app\\n\\nCurrently, we do not have an official mobile app. If you previously used an app from our website, it was provided by our partners. Unfortunately, we cannot provide a download link at this time. To access our site, please visit the following link: https://valor.bet/.\\n\\n\\n\\nThe mobile app isn\\'t working properly, what can I do?\\n\\nIf you are experiencing issues with the app, here are some tips that may help: \\n\\n1. Restart your mobile device and try opening the app again. \\n\\n2. Check if your internet connection is stable. \\n\\n3. Clear the app\\'s cache and then open it again.\\n\\n\\n\\nThe app won\\'t open. I\\'ve tried multiple times. What happened?\\n\\nIf the ValorBet app isn’t opening, please try the following steps: \\n\\n1. Restart your device and attempt to open the app again. \\n\\n2. If the app still doesn’t open, please visit our ValorBet Site https://valor.bet/ and log in to your account through your browser.\\n\\n\\n\\n\\n\\nI had an account on the app with funds in it. After clicking the link, my funds disappeared. Why did this happen?\\n\\nWhen you access the link https://valor.bet/ , you\\'ll need to log into your account to view your funds. Please follow these steps: \\n\\n1. Go to the \"Log In\" tab. \\n\\n2. Enter the email address you used to register. \\n\\n3. Enter your password.\\n\\n\\n\\nWhy is it better to access via the browser using the link rather than the mobile app?\\n\\nMobile apps may not be compatible with all devices or operating systems. Accessing our site through a browser ensures that all users can enjoy a seamless experience, regardless of their device.\\n\\n\\n\\nPlease provide me with the link to your site. I want to play on the site.\\n\\nTo access our website and start playing, simply use the link: https://valor.bet/.\\n\\n\\n\\nWhy should I access the site via the browser?\\n\\nAccessing the site through a browser is often easier and more convenient for many users compared to using a mobile app. It ensures better compatibility and functionality across different devices. For the best experience, please use the link https://valor.bet/.\\n\\n\\n\\nWhich browser do you recommend for logging in?\\n\\nFor the best experience on our site, we recommend using the Chrome browser. However, you can access the site through any browser that you prefer, just make sure to use this link: https://valor.bet/.\\n\\n\\n\\nI\\'m underage. Can I play on your site?\\n\\nNo, according to the rules of our site, only people who have reached the age of majority, 18 years or older, are allowed to play.\\n\\n\\n\\n\\n\\n\\n\\nHow can I register on your site?\\n\\nTo register on our site, please follow these steps: \\n\\n1. Click the \"Sign Up\": button in the upper right corner. \\n\\n2. Select your preferred currency for betting. \\n\\n3. Enter your current email address to receive bonus offers. \\n\\n4. Provide your phone number. \\n\\n5. Create a secure password. \\n\\n6. Click the \"Register\" button to complete the process.\\n\\n\\n\\nHow do I fill out my profile on the site?\\n\\nTo complete your profile on the site, please follow these steps: \\n\\n1. Go to the \"Account\" section in the upper right corner. \\n\\n2. Access the \"Profile\" section. \\n\\n3. Here, you can verify your identity, confirm your email address, and change your account password as needed.\\n\\n\\n\\nWhat is needed to verify the profile?\\n\\nTo verify your account, click on your profile in the upper right corner of the screen and go to the \\'Verification\\' section. Fill in your profile information and upload the documents. Please note that the system requires 2 documents: a photo of an identity document and a selfie with that document.\\n\\n\\n\\nHow do I go through the identity verification or confirmation process?\\n\\nThe identity verification process on the ValorBet site is simple. You can complete it in several ways: \\n1. Access the \"Profile\" section and scroll down to the \\'Documents for Verification\\' area, where you can choose the required documents. \\n2. Go to the \"Verification\" section and select the type of document you wish to verify. \\n3. If you have difficulty uploading photos on the website, you can contact technical support via chat and send the photos directly to the operator. \\n4. Alternatively, you can email your photos for review to support@valor.bet.\"\\n\\n\\n\\nIs verification mandatory if I don\\'t want to go through it?\\n\\nThe verification process on the ValorBet website is recommended but not mandatory. You can place bets, deposit, and withdraw funds without undergoing identity verification. However, to protect your profile, we recommend that you go through the identification process.\\n\\n\\n\\nWhat documents do you accept to confirm identity?\\n\\nTo confirm your identity, you can provide a passport, driver\\'s license, or identification card.\\n\\n\\n\\nHow long does it take to verify the documents?\\n\\nThe documents have been sent for analysis! This process may take from 15 minutes to 12 hours. You can also inquire about the verification process through chat or email.\\n\\n\\n\\nIt\\'s been over 4 hours since I sent the documents for verification. Why is it taking so long?\\n\\nWe apologize for the inconvenience caused. I have sent a request to expedite the verification of your documents. Please await an email shortly. We appreciate your understanding.\\n\\n\\n\\nIs it safe to upload photos to your site?\\n\\nYou are sending a photo to confirm your identity on our website. All information is kept confidential. Don\\'t worry! We are a licensed online casino that values user security and reputation.\\n\\n\\n\\nI can\\'t upload the photo, there was an error. What should I do?\\n\\nYou can send the photos to our email address at support@valor.bet. The administration will prioritize the analysis of your documents. You can also send the photos through the chat with our technical support.\\n\\n\\n\\nHow do I log out of my account?\\n\\nCurrently, logging out of your account is not possible. This feature will be added to the site soon. In the meantime, you can close the app and log back in later.\\n\\n\\n\\nWhen will this feature be available?\\n\\nWe cannot provide an exact timeframe for when this feature will be available. However, you will find it in your profile as soon as it is implemented.\\n\\nWhy can\\'t I access my account?\\n\\nWe recommend that you check the accuracy of the data entered when filling out certain fields. Make sure the email address and password are correct. If you still cannot access your account, please write to the email address support@valor.bet.\\n\\n\\n\\nWhy is my account temporarily suspended or blocked?\\n\\nYour account may be suspended for various reasons, such as failing to complete verification, suspicious activity, or exceeding responsible gaming limits. Please contact support for specific details and assistance in resolving the issue.\\n\\n\\n\\nHow to change my email address if it contains some wrong characters?\\n\\nTo change the email address associated with your account on Valor Bet, please provide the following information to this email valor.security@valor.bet  :\\nYour account ID: [Please specify your account ID]\\nMobile phone number :\\nDate of registration:\\nCurrent balance :\\nRecharge details (card or wallet):\\nLast deposit amount:\\nOld email address:\\nNew email address :\\ncard id or passport :\\n\\n\\n\\nI can\\'t verify my email address. Can you explain in more detail how I can do this?\\n\\nTo verify your email you need to go to the \"Profile\" section and then click on the \"Send email again\" button. If you do not receive an email from the (https://valor.bet/) to confirm your email, write to the technical support team at the address support@valor.bet and our specialists will handle it for you.\\n\\n\\n\\nWhy do I need to confirm my email address?\\n\\nWe value our customers and strive to ensure the safety and convenience of our service. Confirming your email address is just one of the measures we recommend to protect your account. We also recommend updating your password regularly.\\n\\nHow to confirm the email address?\\n\\nFor a successful and secure withdrawal, it\\'s important to confirm your email address. This ensures that money is sent to your account and also helps us ensure a high level of security for your account. To verify your email address: Access the homepage of our website; Choose \"Account\"; Go to the \"Profile\" section; Click on the \"Resend email\" icon and follow the instructions to confirm the email address\\n\\n\\n\\nWhat to do after requesting the email for address confirmation?\\n\\nTo confirm your email, go to your email inbox, which is registered to your account, and follow the link provided in the email from our casino.\\n\\n\\n\\nHow to change my account password?\\n\\nTo change the password for your account, go to the \"Account\" section and then go to \"Profile\" - \"Secure\". There you will need to provide your account\\'s current password and enter the new password to confirm. \\n\\nTo change your password or email, please send your request to our dedicated address: valor.security@valor.bet. Make sure to include the necessary information for processing your request (e.g., your player ID or registered email address). This will help us resolve your issue more quickly.  If you have any further questions, we’re always here to assist!\\n\\n\\n\\nI forgot my password and can\\'t log in. What should I do?\\n\\nTo recover access to your account, click on the \"Login\" button in the top right corner of our website\\'s home page. Then click on \"Forgot my password\". Then enter the email address associated with your account and an email with a new password will be sent to you.\\n\\n\\n\\nCan I change my information on the profile in any way?\\n\\nYes, you can do that. Please specify exactly what you want to change and why. Then, your request will be forwarded to the casino administration for review.\\n\\n\\n\\nHow to update my personal data in the account?\\n\\nYou can request changes to specific information in your profile by sending a request to the email support@valor.bet\\n\\n\\n\\n\\n\\nDo I need to upload any documents if I want to change my personal information?\\n\\nTo change the address in your personal profile data, you need to provide a new selfie with an identity document.\\n\\n\\n\\nHow can I block/delete my account?\\n\\nYour account will be automatically blocked after 6 months of inactivity.\\n\\n\\n\\nI want to block/delete my account right now!\\n\\nUnfortunately, I cannot immediately block your account. Technically, this is impossible.\\n\\n\\n\\nHow to protect my account against unauthorized access?\\n\\nFor security and protection of your profile, the security department recommends updating your account password every 30 days. We guarantee the honesty and security of your profile. No one except you can access your account.\\n\\n\\n\\nCan I create multiple accounts with my details?\\n\\nEach user is allowed to create only one account. Creating multiple accounts using your details violates the site\\'s rules and may lead to the suspension or closure of all related accounts.\\n\\n\\n\\nHow to contact customer support?\\n\\nYou can contact us through the technical support chat, as well as via the email address support@valor.bet. Our technical support is available 24 hours a day to assist you!\\n\\n\\n\\nHow can I contact you?\\n\\nYou can contact us through the technical support chat or by sending an email to support@valor.bet. Our technical support is available 24 hours a day, to assist you!\\n\\n\\n\\nWhat social networks do you have?\\n\\nYou can keep up with news and promotions on our [Telegram](https://t.me/valorcasino) channel or follow us on [Instagram](https://instagram.com/valor.bet?igshid=OGQ5ZDc2ODk2ZA==).\\n\\n\\n\\nHow to check my status in the VIP program?\\n\\nIf you have a VIP status, your personal manager will get in touch with you. Each privileged player has a dedicated manager.\\n\\n\\n\\nWhat events happen in the VIP club?\\n\\nFor all VIP club members, exclusive tournaments and drawings are held to suit all tastes. As soon as you become a VIP club member, your personal manager will contact you and explain all the details.\\n\\n\\n\\nHow to change the language of the interface on the site?\\n\\nTo change the language of the site, you need to go to the homepage of the site and choose the desired language at the bottom of the page.\\n\\n\\n\\nHow to disable sound effects on slot machines?\\n\\nTo disable the game sound, you need to find the \"Sound\" icon within the game itself, press it, and adjust the sound volume to the desired level.\\n\\n\\n\\nCan I use a friend\\'s account? Can we play together using the same account?\\n\\nUsing another person\\'s account is prohibited. Each user must have their own account on our site. Playing from a single account is prohibited according to the rules of our site.\\n\\n\\n\\nCan you provide me with information on my friend\\'s account? He also plays on your site.\\n\\nSorry, but in the interest of confidentiality and security of our users, we cannot provide information about third-party accounts. Your friend should contact our technical support directly and provide the necessary information to verify the authenticity of the account. We appreciate your understanding.\\n\\n\\n\\nCan I earn money using the platform?\\n\\nIn online casinos like ValorBet, players often win large amounts, but we cannot guarantee steady profits. We recommend you play with a predetermined budget and plan your bet values.\\n\\n\\n\\n\\n\\nWhat payment methods are accepted on the site?\\n\\nTo view the available payment methods, you need to go to the \"Top up in 1 click\"\\' section. There, you can see the current payment methods.\\n\\n\\n\\nplease provide the following information:\\n\\nYour account ID: \\n\\nMobile phone number :\\n\\nDate of registration:\\n\\nCurrent balance :\\n\\nRecharge details (card or wallet):\\n\\nLast deposit amount:\\n\\nOld email address:\\n\\nNew email address :\\n\\n\\n\\nTo verify your email you need to go to the \"Profile\" section and then click on the \"Send email again\" button. and then follow the link sent to you via an email\\n\\n\\n\\nTo verify your email address, simply go to the main page of our website, select \"Account,\" and go to the \"My Profile\" section. There, you will find the \"Resend Email\" icon, click on it, and follow the instructions to verify your email address.\\n\\n\\n\\nI am going to forward your email verification request to the technical support team. Please stay online, I will be back in a few minutes.\\n\\n\\n\\nOr you can send your email and user-ID here in the chat and I will forward your email verification request to the technical support team.\\n\\n\\n\\nYour request has been forwarded to the technical support team, your email will be verified within 48 hours\\n\\n\\n\\nWe have sent your request to our technical support department, the process may take up to 48 hours due to the high demand for messages. Thank you very much for your patience\\n\\n\\n\\nYour account may be suspended for various reasons, such as failing to complete verification, suspicious activity, or exceeding responsible gaming limits. Please contact support for specific details and assistance in resolving the issue.\\n\\n\\n\\nThe client followed the procedure of email verification but they did not receive a confirmation email.')]"
      ]
     },
     "execution_count": 4,
     "metadata": {},
     "output_type": "execute_result"
    }
   ],
   "source": [
    "loader = Docx2txtLoader(doc_files[3])\n",
    "\n",
    "data = loader.load()\n",
    "\n",
    "data"
   ]
  },
  {
   "cell_type": "code",
   "execution_count": 5,
   "id": "15da9768",
   "metadata": {},
   "outputs": [],
   "source": [
    "loader = DirectoryLoader(\n",
    "        path=root_dir/'docs',\n",
    "        glob=\"**/*.docx\",\n",
    "        loader_cls=Docx2txtLoader,\n",
    "        show_progress=True,\n",
    "        use_multithreading=True\n",
    "    )"
   ]
  },
  {
   "cell_type": "code",
   "execution_count": 6,
   "id": "10a00a37",
   "metadata": {},
   "outputs": [
    {
     "name": "stderr",
     "output_type": "stream",
     "text": [
      "  0%|          | 0/6 [00:00<?, ?it/s]"
     ]
    },
    {
     "name": "stderr",
     "output_type": "stream",
     "text": [
      "100%|██████████| 6/6 [00:00<00:00, 42.76it/s]"
     ]
    },
    {
     "name": "stdout",
     "output_type": "stream",
     "text": [
      "Loaded 6 documents\n"
     ]
    },
    {
     "name": "stderr",
     "output_type": "stream",
     "text": [
      "\n"
     ]
    }
   ],
   "source": [
    "documents = loader.load()\n",
    "    \n",
    "if not documents:\n",
    "    print(\"No documents found in the 'docs' folder.\")\n",
    "else:\n",
    "    print(f\"Loaded {len(documents)} documents\")"
   ]
  },
  {
   "cell_type": "markdown",
   "id": "28bb2537",
   "metadata": {},
   "source": [
    "### Text Splitting"
   ]
  },
  {
   "cell_type": "code",
   "execution_count": 7,
   "id": "ccbe3536",
   "metadata": {},
   "outputs": [],
   "source": [
    "from langchain_text_splitters import RecursiveCharacterTextSplitter"
   ]
  },
  {
   "cell_type": "code",
   "execution_count": 8,
   "id": "41065397",
   "metadata": {},
   "outputs": [
    {
     "name": "stdout",
     "output_type": "stream",
     "text": [
      "Split into 105 chunks\n"
     ]
    }
   ],
   "source": [
    "text_splitter = RecursiveCharacterTextSplitter(\n",
    "    chunk_size=1000,\n",
    "    chunk_overlap=200,\n",
    "    length_function=len,\n",
    "    is_separator_regex=False,\n",
    ")\n",
    "\n",
    "splits = text_splitter.split_documents(documents)\n",
    "print(f\"Split into {len(splits)} chunks\")"
   ]
  },
  {
   "cell_type": "code",
   "execution_count": 9,
   "id": "fefb9228",
   "metadata": {},
   "outputs": [
    {
     "data": {
      "text/plain": [
       "Document(metadata={'source': '/home/ubuntu_wsl/gen_ai/rag_agent/notebooks/../docs/3-bonus.docx'}, page_content='How can I view my bonus history?\\n\\nTo view your bonus history, please follow these steps: \\n1. Go to the \"Account\" section. \\n2. Click on the \"Bonuses\" tab. \\n3. You will find all the bonuses you have used, organized into different sections.\\n\\n\\n\\nHow can I see my active bonuses?\\n\\nTo view your active bonuses, please follow these steps: \\n\\n1. Go to the \"Accoun\" section. \\n\\n2. Select the \"Bonuses\" category. \\n\\n3. Click on the \"Active\" option. You will see a list of all your current active bonuses.\\n\\n\\n\\nHow can I view the bonuses I\\'ve already completed? I want to see the bonuses I\\'ve met the wagering requirements for.\\n\\nTo see the bonuses for which you have met the wagering requirements, please follow these steps: 1. Go to the \"Account\" section. \\n\\n2. Select the \"Bonuses\" category. \\n\\n3. Click on the \"Completed\" tab. There, you will find a list of all bonuses that you have completed.\\n\\n\\n\\nHow can I see the list of bonuses I haven\\'t started wagering yet?')"
      ]
     },
     "execution_count": 9,
     "metadata": {},
     "output_type": "execute_result"
    }
   ],
   "source": [
    "splits[0]"
   ]
  },
  {
   "cell_type": "markdown",
   "id": "a16826cb",
   "metadata": {},
   "source": [
    "### Embedding and Vector store"
   ]
  },
  {
   "cell_type": "code",
   "execution_count": 10,
   "id": "c418fb06",
   "metadata": {},
   "outputs": [],
   "source": [
    "from langchain_huggingface import HuggingFaceEmbeddings\n",
    "from langchain_chroma import Chroma\n",
    "\n",
    "embedding_model = HuggingFaceEmbeddings(\n",
    "    model_name=\"sentence-transformers/all-MiniLM-L6-v2\")"
   ]
  },
  {
   "cell_type": "code",
   "execution_count": 11,
   "id": "bfa24728",
   "metadata": {},
   "outputs": [
    {
     "name": "stdout",
     "output_type": "stream",
     "text": [
      "Vector store created and persisted at 'vector_stores'\n"
     ]
    }
   ],
   "source": [
    "# 4. Create and persist ChromaDB vector store\n",
    "vectorstore = Chroma.from_documents(\n",
    "    documents=splits,\n",
    "    embedding=embedding_model,\n",
    "    persist_directory=str(root_dir/\"vector_stores\")  # directory to store the vector DB\n",
    ")\n",
    "\n",
    "print(\"Vector store created and persisted at 'vector_stores'\")"
   ]
  },
  {
   "cell_type": "code",
   "execution_count": 12,
   "id": "5f201b4c",
   "metadata": {},
   "outputs": [],
   "source": [
    "from langchain import hub"
   ]
  },
  {
   "cell_type": "code",
   "execution_count": 13,
   "id": "23a6edc7",
   "metadata": {},
   "outputs": [],
   "source": [
    "from langgraph.graph import START, StateGraph\n",
    "from langchain_core.documents import Document\n",
    "from typing_extensions import List, TypedDict\n",
    "from langchain_ollama import ChatOllama"
   ]
  },
  {
   "cell_type": "code",
   "execution_count": 23,
   "id": "0a9dfc9f",
   "metadata": {},
   "outputs": [
    {
     "name": "stderr",
     "output_type": "stream",
     "text": [
      "/home/ubuntu_wsl/gen_ai/rag_agent/venv/lib/python3.12/site-packages/langsmith/client.py:272: LangSmithMissingAPIKeyWarning: API key must be provided when using hosted LangSmith API\n",
      "  warnings.warn(\n"
     ]
    }
   ],
   "source": [
    "prompt = hub.pull(\"rlm/rag-prompt\")\n",
    "\n",
    "\n",
    "# llm = ChatOllama(\n",
    "#     model=\"mistral\",\n",
    "#     temperature=0.7,\n",
    "# )\n",
    "\n",
    "llm = ChatOllama(\n",
    "    model=\"deepseek-r1:1.5b\",\n",
    "    temperature=0.7,\n",
    ")\n",
    "\n",
    "# Define state for application\n",
    "class State(TypedDict):\n",
    "    question: str\n",
    "    context: List[Document]\n",
    "    answer: str\n",
    "\n",
    "\n",
    "# Define application steps\n",
    "def retrieve(state: State):\n",
    "    retrieved_docs = vectorstore.similarity_search(state[\"question\"])\n",
    "    return {\"context\": retrieved_docs}\n",
    "\n",
    "\n",
    "def generate(state: State):\n",
    "    docs_content = \"\\n\\n\".join(doc.page_content for doc in state[\"context\"])\n",
    "    messages = prompt.invoke({\"question\": state[\"question\"], \"context\": docs_content})\n",
    "    response = llm.invoke(messages)\n",
    "    return {\"answer\": response.content}\n",
    "\n",
    "\n",
    "# Compile application and test\n",
    "graph_builder = StateGraph(State).add_sequence([retrieve, generate])\n",
    "graph_builder.add_edge(START, \"retrieve\")\n",
    "graph = graph_builder.compile()"
   ]
  },
  {
   "cell_type": "code",
   "execution_count": 24,
   "id": "908704a9",
   "metadata": {},
   "outputs": [],
   "source": [
    "from IPython.display import Image, display"
   ]
  },
  {
   "cell_type": "code",
   "execution_count": 25,
   "id": "33c2b139",
   "metadata": {},
   "outputs": [
    {
     "data": {
      "image/png": "[encoded data removed]",
      "text/plain": [
       "<IPython.core.display.Image object>"
      ]
     },
     "metadata": {},
     "output_type": "display_data"
    }
   ],
   "source": [
    "display(Image(graph.get_graph().draw_mermaid_png()))"
   ]
  },
  {
   "cell_type": "code",
   "execution_count": 26,
   "id": "39c98fc0",
   "metadata": {},
   "outputs": [
    {
     "name": "stdout",
     "output_type": "stream",
     "text": [
      "{'retrieve': {'context': [Document(id='00d6a929-25ef-429d-b8ec-7e9bde40b5f3', metadata={'source': '/home/ubuntu_wsl/gen_ai/rag_agent/notebooks/../docs/2-deposit.docx'}, page_content=\"What is the withdrawal cancellation procedure?\\n\\nIt is not possible to cancel a withdrawal request. Withdrawals on our site are processed automatically. If you made a mistake when making the request, the payment will be rejected shortly.\\n\\n\\n\\nWhere's my loot? I requested the withdrawal and so far it has not been credited to my account.\\n\\nThe withdrawal period is from 15 minutes to 7 days, do not worry your withdrawal is being processed, we ask that you wait for this period in accordance with our payment system which is processing your withdrawal safely so that you can have all the comfort and security in play, remembering that after requesting a withdrawal, it is not recommended to place a bet if you wish to withdraw.\\n\\n\\n\\nWhy hasn't my withdrawal been credited yet?\"), Document(id='04fc9dc6-a9d5-430f-bfee-b1651729b434', metadata={'source': '/home/ubuntu_wsl/gen_ai/rag_agent/notebooks/../docs/2-deposit.docx'}, page_content=\"What is the withdrawal cancellation procedure?\\n\\nIt is not possible to cancel a withdrawal request. Withdrawals on our site are processed automatically. If you made a mistake when making the request, the payment will be rejected shortly.\\n\\n\\n\\nWhere's my loot? I requested the withdrawal and so far it has not been credited to my account.\\n\\nThe withdrawal period is from 15 minutes to 7 days, do not worry your withdrawal is being processed, we ask that you wait for this period in accordance with our payment system which is processing your withdrawal safely so that you can have all the comfort and security in play, remembering that after requesting a withdrawal, it is not recommended to place a bet if you wish to withdraw.\\n\\n\\n\\nWhy hasn't my withdrawal been credited yet?\"), Document(id='7f68cd1a-aa22-4a42-83e6-fe414effc7ef', metadata={'source': '/home/ubuntu_wsl/gen_ai/rag_agent/notebooks/../docs/2-deposit.docx'}, page_content=\"What is the withdrawal cancellation procedure?\\n\\nIt is not possible to cancel a withdrawal request. Withdrawals on our site are processed automatically. If you made a mistake when making the request, the payment will be rejected shortly.\\n\\n\\n\\nWhere's my loot? I requested the withdrawal and so far it has not been credited to my account.\\n\\nThe withdrawal period is from 15 minutes to 7 days, do not worry your withdrawal is being processed, we ask that you wait for this period in accordance with our payment system which is processing your withdrawal safely so that you can have all the comfort and security in play, remembering that after requesting a withdrawal, it is not recommended to place a bet if you wish to withdraw.\\n\\n\\n\\nWhy hasn't my withdrawal been credited yet?\"), Document(id='c9a02849-482d-477c-adf8-4410bc12b713', metadata={'source': '/home/ubuntu_wsl/gen_ai/rag_agent/notebooks/../docs/2-deposit.docx'}, page_content=\"What is the withdrawal cancellation procedure?\\n\\nIt is not possible to cancel a withdrawal request. Withdrawals on our site are processed automatically. If you made a mistake when making the request, the payment will be rejected shortly.\\n\\n\\n\\nWhere's my loot? I requested the withdrawal and so far it has not been credited to my account.\\n\\nThe withdrawal period is from 15 minutes to 7 days, do not worry your withdrawal is being processed, we ask that you wait for this period in accordance with our payment system which is processing your withdrawal safely so that you can have all the comfort and security in play, remembering that after requesting a withdrawal, it is not recommended to place a bet if you wish to withdraw.\\n\\n\\n\\nWhy hasn't my withdrawal been credited yet?\")]}}\n",
      "\n",
      "----------------\n",
      "\n",
      "{'generate': {'answer': '<think>\\nOkay, I need to figure out how to answer this question. The user asked, \"How to make a withdrawal?\" and provided several context pieces. Let me read through the context carefully.\\n\\nFirst, it says that withdrawals aren\\'t cancellable on our site. They process automatically but if you made a mistake, the payment is rejected quickly. There\\'s also an explanation about the withdrawal period: 15 minutes to 7 days, you don\\'t need to wait because of safety and security, just know after making a withdrawal it\\'s not recommended to place a bet.\\n\\nThe last part repeats the same points without answering the original question. So, the user is asking for steps on how to make a withdrawal, but the context seems to focus more on automatic processing and why withdrawals can\\'t be canceled or if they\\'re credited.\\n\\nI should probably explain that we don\\'t process cancellations here because of safety, but it\\'s okay to try withdrawing again. Also mention the period before it gets processed.\\n</think>\\n\\nYou cannot cancel a withdrawal request through our platform. Withdrawals are automatically processed, and once you make an error in the request, your payment may be rejected quickly. The withdrawal period is 15 minutes to 7 days; while waiting during this time is fine due to safety and security protocols, it\\'s not recommended to place bets after making a withdrawal. You can try withdrawing again later within the accepted period.'}}\n",
      "\n",
      "----------------\n",
      "\n"
     ]
    }
   ],
   "source": [
    "for step in graph.stream(\n",
    "    {\"question\": \"How to make a withdrawal?\"}, stream_mode=\"updates\"\n",
    "):\n",
    "    print(f\"{step}\\n\\n----------------\\n\")"
   ]
  },
  {
   "cell_type": "code",
   "execution_count": 19,
   "id": "7b323e04",
   "metadata": {},
   "outputs": [
    {
     "name": "stdout",
     "output_type": "stream",
     "text": [
      "{'retrieve': {'context': [Document(id='8d5786bc-391e-4d85-8b2e-dcb45fd673e3', metadata={'source': '/home/ubuntu_wsl/gen_ai/rag_agent/notebooks/../docs/6-Genral.docx'}, page_content=\"Currently, there is no such a [...]\\n\\n\\n\\nSome delays or overloads of chats\\n\\nSorry for keeping you waiting! I need a few more minutes to check your request.\\n\\nI apologize for the delayed answer.\\n\\nThank you for your patience! It's highly appreciated.\\n\\nI am checking this information with my colleagues, kindly ask you to wait a bit.\\n\\n\\n\\nThe client is not answering\\n\\nAre we still in touch?\\n\\nIn case you want to get this bonus, drop me a line anytime. I will be here for you.\\n\\nOther\\n\\nThank you so much for your cooperation!\\n\\nWe are thrilled to be your top choice.\\n\\nI completely understand your feelings.\\n\\n\\n\\nFarewell/checkup/closure\\n\\nThank you for your understanding. Do you have any other questions?\\n\\nSure, I will gladly assist you next time too!\\n\\nMy pleasure! If you have any other questions, feel free to contact us again. We're here 24/7 \\n\\n\\n\\nRequesting Information constructs:\\n\\nCould you please........ (do smth, advise, inform, perform, render, etc.) (Could you...);\"), Document(id='62ea3de8-3dfd-461e-91a4-455fef20c129', metadata={'source': '/home/ubuntu_wsl/gen_ai/rag_agent/notebooks/../docs/6-Genral.docx'}, page_content=\"Introduction/Greetings\\n\\nHi, my name is [NAME]. I am happy to help!\\n\\nHello, [client's name]. It's [your name]. How can I help you today?\\n\\nHi there! It's [NAME] and I am here to assist you.\\n\\n\\n\\nAwaiting\\n\\nGive me a few minutes, and I will check it for you.\\n\\nKindly ask you to wait, I will check your account.\\n\\nThank you, let me check this information for you.\\n\\n| Auxiliary phrases | What made you so upset? Kindly ask you to describe your issue in more detail. May I know what happened? I would like to assist you, so please tell me what happened. | | --- | --- |\\n\\n\\n\\nProviding a solution/Offering a bonus\\n\\nThanks for waiting! I would like to inform you [...]\\n\\nI am back! Kindly ask you to [...]\\n\\nAs I can see, your account is [...]\\n\\nOur system has detected that [...]\\n\\nI can offer you a pack of X spins [...]. Would you like that?\\n\\nCurrently, there is no such a [...]\\n\\n\\n\\nSome delays or overloads of chats\\n\\nSorry for keeping you waiting! I need a few more minutes to check your request.\"), Document(id='d4c27481-c4d1-4dfa-8f13-17f950f05112', metadata={'source': '/home/ubuntu_wsl/gen_ai/rag_agent/notebooks/../docs/6-Genral.docx'}, page_content='Requesting Information constructs:\\n\\nCould you please........ (do smth, advise, inform, perform, render, etc.) (Could you...);\\n\\nWe would be grateful if you could... (We will be very grateful if you...).\\n\\nIf necessary to indicate the urgency of the issue, then use the following templates:\\n\\nYour prompt reply will be appreciated;\\n\\nCould you please do smth asap (Could you do this as soon as possible);\\n\\nWe will be glad to receive your reply by COB (Close of Business)\\n\\nAlways thank for the answer, question, or simply information provided.\\n\\nThank you for your quick response. - Thanks for the quick response.\\n\\nThank you for your message. - Thank you for your message.\\n\\nThank you very much for sending me the catalogue. – Thank you for sending me the catalogue.\\n\\n\\n\\n\\n\\n\\n\\n\\n\\n\\n\\n\\n\\n\\n\\n\\n\\nQuick answers\\n\\nI will be happy to check the bonus for you. Please wait.'), Document(id='61f31690-24f2-47b0-ab0d-2bd3bb855fbf', metadata={'source': '/home/ubuntu_wsl/gen_ai/rag_agent/notebooks/../docs/6-Genral.docx'}, page_content='Thank you very much for sending me the catalogue. – Thank you for sending me the catalogue.\\n\\n\\n\\n\\n\\n\\n\\n\\n\\n\\n\\n\\n\\n\\n\\n\\n\\nQuick answers\\n\\nI will be happy to check the bonus for you. Please wait.\\n\\n\\n\\nNo name\\nNice to meet you, it would be great to know your real name first so I can politely address you here in the chat. So I will be happy to help you with any request.\\n\\n\\nCould you first tell me your email address that you indicated in your profile?\\n\\n\\nI will definitely help you. Could you first tell me your name and the email you indicated in your profile?\\n\\n\\nThank you very much for the photograph, but data such as your name, date of birth and validity of the document must be legible. Could you please try to take a better selfie?\\n\\n\\n\\nExpectation\\n\\n\\nGive me a few minutes please, I will check the information regarding your problem.\\n\\n\\nGive me a few minutes please, I will check the information regarding your documents.\\n\\n\\nJust a few minutes for me to check bonus availability, please. Thanks in advance!')]}}\n",
      "\n",
      "----------------\n",
      "\n",
      "{'generate': {'answer': ' Greetings: Hi, my name is [NAME]. I am happy to help!\\n                        Hello, [client\\'s name]. It\\'s [your name]. How can I help you today?\\n                        Hi there! It\\'s [NAME] and I am here to assist you.\\n\\n   Delayed Response: Sorry for keeping you waiting! I need a few more minutes to check your request.\\n                          I apologize for the delayed answer.\\n                          Thank you, let me check this information for you.\\n\\n   Requesting Information: Could you please [do something/advise/inform/perform]?\\n                               We would be grateful if you could [do something].\\n                               If necessary to indicate urgency, use phrases like \"Your prompt reply will be appreciated,\" or \"Could you do this as soon as possible.\"\\n\\n   Providing a solution: Thanks for waiting! I would like to inform you that [something].\\n                              I am back! Kindly ask you to [do something].\\n                              As I can see, your account is [status].\\n\\n   Delays or Overloads of Chats: Always thank for the answer, question, or information provided.\\n                                      Your prompt reply will be appreciated.\\n                                      Thank you very much for sending me the catalogue.'}}\n",
      "\n",
      "----------------\n",
      "\n"
     ]
    }
   ],
   "source": [
    "for step in graph.stream(\n",
    "    {\"question\": \"retrieve all the greetings\"}, stream_mode=\"updates\"\n",
    "):\n",
    "    print(f\"{step}\\n\\n----------------\\n\")"
   ]
  },
  {
   "cell_type": "code",
   "execution_count": null,
   "id": "a2cc89aa",
   "metadata": {},
   "outputs": [],
   "source": []
  }
 ],
 "metadata": {
  "kernelspec": {
   "display_name": "rag",
   "language": "python",
   "name": "rag"
  },
  "language_info": {
   "codemirror_mode": {
    "name": "ipython",
    "version": 3
   },
   "file_extension": ".py",
   "mimetype": "text/x-python",
   "name": "python",
   "nbconvert_exporter": "python",
   "pygments_lexer": "ipython3",
   "version": "3.12.4"
  }
 },
 "nbformat": 4,
 "nbformat_minor": 5
}
